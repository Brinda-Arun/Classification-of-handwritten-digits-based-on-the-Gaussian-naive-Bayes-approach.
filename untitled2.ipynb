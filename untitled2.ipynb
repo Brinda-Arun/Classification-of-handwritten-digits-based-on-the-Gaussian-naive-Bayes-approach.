{
  "nbformat": 4,
  "nbformat_minor": 0,
  "metadata": {
    "colab": {
      "provenance": [],
      "authorship_tag": "ABX9TyPyTO8V5Bj5Q2uL4YamnOkj",
      "include_colab_link": true
    },
    "kernelspec": {
      "name": "python3",
      "display_name": "Python 3"
    },
    "language_info": {
      "name": "python"
    }
  },
  "cells": [
    {
      "cell_type": "markdown",
      "metadata": {
        "id": "view-in-github",
        "colab_type": "text"
      },
      "source": [
        "<a href=\"https://colab.research.google.com/github/Brinda-Arun/Classification-of-handwritten-digits-based-on-the-Gaussian-naive-Bayes-approach./blob/main/untitled2.ipynb\" target=\"_parent\"><img src=\"https://colab.research.google.com/assets/colab-badge.svg\" alt=\"Open In Colab\"/></a>"
      ]
    },
    {
      "cell_type": "code",
      "execution_count": 1,
      "metadata": {
        "id": "sc2ugr87VjTj",
        "outputId": "560d2a70-0a99-4c33-c099-40230774848f",
        "colab": {
          "base_uri": "https://localhost:8080/"
        }
      },
      "outputs": [
        {
          "output_type": "stream",
          "name": "stdout",
          "text": [
            "Cloning into 'Classification-of-handwritten-digits-based-on-the-Gaussian-naive-Bayes-approach.'...\n",
            "remote: Enumerating objects: 3, done.\u001b[K\n",
            "remote: Counting objects: 100% (3/3), done.\u001b[K\n",
            "remote: Compressing objects: 100% (3/3), done.\u001b[K\n",
            "remote: Total 3 (delta 0), reused 0 (delta 0), pack-reused 0\u001b[K\n",
            "Unpacking objects: 100% (3/3), 256.80 KiB | 3.29 MiB/s, done.\n"
          ]
        }
      ],
      "source": [
        "!git clone https://github.com/Brinda-Arun/Classification-of-handwritten-digits-based-on-the-Gaussian-naive-Bayes-approach..git"
      ]
    },
    {
      "cell_type": "markdown",
      "source": [
        "# New Section"
      ],
      "metadata": {
        "id": "vDMcgORxYQAf"
      }
    },
    {
      "cell_type": "code",
      "source": [
        "import pandas as pd\n",
        "from sklearn.naive_bayes import GaussianNB\n",
        "from sklearn.metrics import confusion_matrix, precision_recall_fscore_support,accuracy_score\n",
        "\n",
        "\n",
        "from google.colab import drive\n",
        "drive.mount('/content/gdrive')\n",
        "\n",
        "with open(\"/content/gdrive/My Drive/mnist_train.csv\", 'r') as d:\n",
        "\n",
        "  data = d.read()\n",
        "\n",
        "with open(\"/content/gdrive/My Drive/mnist_test.csv\", 'r') as d:\n",
        "\n",
        "  data = d.read()\n",
        "\n",
        "\n",
        "\n",
        "\n",
        "# Load the training and testing data\n",
        "train_data = pd.read_csv(\"/content/gdrive/My Drive/mnist_train.csv\")\n",
        "test_data = pd.read_csv(\"/content/gdrive/My Drive/mnist_test.csv\")\n",
        "\n",
        "# Split the data into features (X) and labels (y)\n",
        "X_train = train_data.values[:, 1:]\n",
        "y_train = train_data.values[:, 0]\n",
        "X_test = test_data.values[:, 1:]\n",
        "y_test = test_data.values[:, 0]\n",
        "\n",
        "# Generate a Gaussian Naive Bayes model\n",
        "gnb = GaussianNB()\n",
        "\n",
        "# Train the model using the training data\n",
        "gnb.fit(X_train, y_train)\n",
        "\n",
        "# Use the trained model to predict the labels of the testing data\n",
        "y_pred = gnb.predict(X_test)\n",
        "\n",
        "# Evaluate the model using the Confusion Matrix\n",
        "cm = confusion_matrix(y_test, y_pred)\n",
        "print(\"Confusion Matrix:\\n\", cm)\n",
        "\n",
        "# Evaluate the model using Precision, Recall, and F1-score\n",
        "precision, recall, f1, support = precision_recall_fscore_support(y_test, y_pred)\n",
        "print(\"Precision:\", precision)\n",
        "print(\"Recall:\", recall)\n",
        "print(\"F1-score:\", f1)\n",
        "print(\"Support:\",support)\n",
        "\n",
        "# Evaluate the model using Accuracy\n",
        "accuracy = accuracy_score(y_test, y_pred)\n",
        "print(\"Accuracy:\", accuracy)"
      ],
      "metadata": {
        "colab": {
          "base_uri": "https://localhost:8080/"
        },
        "id": "OtN_qBCsKAnb",
        "outputId": "94b2fecb-df58-4382-cdd1-39f504e1ad49"
      },
      "execution_count": null,
      "outputs": [
        {
          "output_type": "stream",
          "name": "stdout",
          "text": [
            "Mounted at /content/gdrive\n",
            "Confusion Matrix:\n",
            " [[ 870    0    3    5    2    5   31    1   35   28]\n",
            " [   0 1079    2    1    0    0   10    0   38    5]\n",
            " [  79   25  266   91    5    2  269    4  271   20]\n",
            " [  32   39    6  353    2    3   51    8  409  107]\n",
            " [  19    2    5    4  168    7   63    7  210  497]\n",
            " [  71   25    1   20    3   44   40    2  586  100]\n",
            " [  12   12    3    1    1    7  895    0   26    1]\n",
            " [   0   15    2   10    5    1    5  280   39  670]\n",
            " [  13   72    3    7    3   11   12    4  648  201]\n",
            " [   5    7    3    6    1    0    1   13   18  955]]\n",
            "Precision: [0.79019074 0.84561129 0.9047619  0.70883534 0.88421053 0.55\n",
            " 0.64996369 0.87774295 0.28421053 0.36958204]\n",
            "Recall: [0.8877551  0.95066079 0.25775194 0.34950495 0.17107943 0.04932735\n",
            " 0.934238   0.27263875 0.66529774 0.94648167]\n",
            "F1-score: [0.83613647 0.89506429 0.40120664 0.46816976 0.28668942 0.09053498\n",
            " 0.76659529 0.41604755 0.39827904 0.5315892 ]\n",
            "Support: [ 980 1135 1032 1010  982  892  958 1027  974 1009]\n",
            "Accuracy: 0.5558555855585559\n"
          ]
        }
      ]
    }
  ]
}